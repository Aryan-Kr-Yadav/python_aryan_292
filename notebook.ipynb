{
 "cells": [
  {
   "cell_type": "markdown",
   "id": "7334e971",
   "metadata": {},
   "source": [
    "# variable type"
   ]
  },
  {
   "cell_type": "code",
   "execution_count": 3,
   "id": "68acc7db",
   "metadata": {},
   "outputs": [
    {
     "name": "stdout",
     "output_type": "stream",
     "text": [
      "<class 'int'>\n",
      "<class 'float'>\n",
      "<class 'str'>\n",
      "<class 'bool'>\n",
      "<class 'NoneType'>\n"
     ]
    }
   ],
   "source": [
    "a=100\n",
    "print(type(a))\n",
    "b=200.42\n",
    "print(type(b))\n",
    "c=\"aryan\"\n",
    "print(type(c))\n",
    "d=True\n",
    "print(type(d))\n",
    "e=None\n",
    "print(type(e))"
   ]
  },
  {
   "cell_type": "code",
   "execution_count": 1,
   "id": "71458c7d",
   "metadata": {},
   "outputs": [
    {
     "name": "stdout",
     "output_type": "stream",
     "text": [
      "[' hello', ' world']\n"
     ]
    }
   ],
   "source": [
    "a=\" hello, world\"\n",
    "print(a.split(\",\"))"
   ]
  },
  {
   "cell_type": "code",
   "execution_count": null,
   "id": "561feccb",
   "metadata": {},
   "outputs": [],
   "source": [
    "a=\"hello \"\n",
    "b=\"world\"\n",
    "c=a+b\n",
    "print(c)"
   ]
  },
  {
   "cell_type": "code",
   "execution_count": null,
   "id": "4c81eb3a",
   "metadata": {},
   "outputs": [],
   "source": []
  },
  {
   "cell_type": "code",
   "execution_count": null,
   "id": "4eeca210",
   "metadata": {},
   "outputs": [],
   "source": []
  },
  {
   "cell_type": "code",
   "execution_count": null,
   "id": "1b1e38da",
   "metadata": {},
   "outputs": [],
   "source": []
  }
 ],
 "metadata": {
  "kernelspec": {
   "display_name": "Python 3",
   "language": "python",
   "name": "python3"
  },
  "language_info": {
   "codemirror_mode": {
    "name": "ipython",
    "version": 3
   },
   "file_extension": ".py",
   "mimetype": "text/x-python",
   "name": "python",
   "nbconvert_exporter": "python",
   "pygments_lexer": "ipython3",
   "version": "3.13.5"
  }
 },
 "nbformat": 4,
 "nbformat_minor": 5
}
