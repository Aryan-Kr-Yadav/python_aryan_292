{
 "cells": [
  {
   "cell_type": "markdown",
   "id": "7334e971",
   "metadata": {},
   "source": [
    "# variable type"
   ]
  },
  {
   "cell_type": "code",
   "execution_count": 3,
   "id": "68acc7db",
   "metadata": {},
   "outputs": [
    {
     "name": "stdout",
     "output_type": "stream",
     "text": [
      "<class 'int'>\n",
      "<class 'float'>\n",
      "<class 'str'>\n",
      "<class 'bool'>\n",
      "<class 'NoneType'>\n"
     ]
    }
   ],
   "source": [
    "a=100\n",
    "print(type(a))\n",
    "b=200.42\n",
    "print(type(b))\n",
    "c=\"aryan\"\n",
    "print(type(c))\n",
    "d=True\n",
    "print(type(d))\n",
    "e=None\n",
    "print(type(e))"
   ]
  },
  {
   "cell_type": "code",
   "execution_count": 1,
   "id": "71458c7d",
   "metadata": {},
   "outputs": [
    {
     "name": "stdout",
     "output_type": "stream",
     "text": [
      "[' hello', ' world']\n"
     ]
    }
   ],
   "source": [
    "a=\" hello, world\"\n",
    "print(a.split(\",\"))"
   ]
  },
  {
   "cell_type": "code",
   "execution_count": 2,
   "id": "561feccb",
   "metadata": {},
   "outputs": [
    {
     "name": "stdout",
     "output_type": "stream",
     "text": [
      "hello world\n"
     ]
    }
   ],
   "source": [
    "a=\"hello \"\n",
    "b=\"world\"\n",
    "c=a+b\n",
    "print(c)"
   ]
  },
  {
   "cell_type": "code",
   "execution_count": 2,
   "id": "4eeca210",
   "metadata": {},
   "outputs": [
    {
     "name": "stdout",
     "output_type": "stream",
     "text": [
      "Hello\n"
     ]
    }
   ],
   "source": [
    "b=\"Hello, world\"\n",
    "print(b[:5])"
   ]
  },
  {
   "cell_type": "code",
   "execution_count": 3,
   "id": "973df2f5",
   "metadata": {},
   "outputs": [
    {
     "name": "stdout",
     "output_type": "stream",
     "text": [
      "llo, world\n"
     ]
    }
   ],
   "source": [
    "b=\"Hello, world\"\n",
    "print(b[2:])"
   ]
  },
  {
   "cell_type": "code",
   "execution_count": 4,
   "id": "c8c69ac7",
   "metadata": {},
   "outputs": [
    {
     "name": "stdout",
     "output_type": "stream",
     "text": [
      "wor\n"
     ]
    }
   ],
   "source": [
    "b=\"Hello, world\"\n",
    "print(b[-5:-2])"
   ]
  },
  {
   "cell_type": "code",
   "execution_count": 5,
   "id": "6c40018a",
   "metadata": {},
   "outputs": [
    {
     "name": "stdout",
     "output_type": "stream",
     "text": [
      "['Hello,', 'World']\n"
     ]
    }
   ],
   "source": [
    "a=\"Hello, World\"\n",
    "print(a.split())"
   ]
  },
  {
   "cell_type": "code",
   "execution_count": 6,
   "id": "0957ed6b",
   "metadata": {},
   "outputs": [
    {
     "name": "stdout",
     "output_type": "stream",
     "text": [
      "Hello, World\n"
     ]
    }
   ],
   "source": [
    "a=\"Hello, World\"\n",
    "print(a.strip())"
   ]
  },
  {
   "cell_type": "code",
   "execution_count": 7,
   "id": "842500ac",
   "metadata": {},
   "outputs": [
    {
     "name": "stdout",
     "output_type": "stream",
     "text": [
      "Jello, World\n"
     ]
    }
   ],
   "source": [
    "a=\"Hello, World\"\n",
    "print(a.replace(\"H\",\"J\"))"
   ]
  },
  {
   "cell_type": "code",
   "execution_count": 8,
   "id": "60f8ec67",
   "metadata": {},
   "outputs": [
    {
     "name": "stdout",
     "output_type": "stream",
     "text": [
      "HELLO, WORLD\n"
     ]
    }
   ],
   "source": [
    "a=\"Hello, World\"\n",
    "print(a.upper())"
   ]
  }
 ],
 "metadata": {
  "kernelspec": {
   "display_name": "Python 3",
   "language": "python",
   "name": "python3"
  },
  "language_info": {
   "codemirror_mode": {
    "name": "ipython",
    "version": 3
   },
   "file_extension": ".py",
   "mimetype": "text/x-python",
   "name": "python",
   "nbconvert_exporter": "python",
   "pygments_lexer": "ipython3",
   "version": "3.13.5"
  }
 },
 "nbformat": 4,
 "nbformat_minor": 5
}
