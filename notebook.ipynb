{
 "cells": [
  {
   "cell_type": "code",
   "execution_count": null,
   "id": "68acc7db",
   "metadata": {},
   "outputs": [],
   "source": [
    "a=100\n",
    "type(a)"
   ]
  }
 ],
 "metadata": {
  "kernelspec": {
   "display_name": "Python 3",
   "language": "python",
   "name": "python3"
  },
  "language_info": {
   "name": "python",
   "version": "3.13.5"
  }
 },
 "nbformat": 4,
 "nbformat_minor": 5
}
